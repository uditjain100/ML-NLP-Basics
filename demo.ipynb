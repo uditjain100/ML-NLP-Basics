{
 "cells": [
  {
   "cell_type": "markdown",
   "id": "bd0a41a5-2bac-4f1e-b891-49ab31a62097",
   "metadata": {
    "slideshow": {
     "slide_type": ""
    },
    "tags": []
   },
   "source": [
    "## Jupyter Notebook Demo\n",
    "\n",
    "# Commands\n",
    "\n",
    "1. Modes - A) Command Mode, B) Editing Mode\n",
    "2. Esc - for Command Mode\n",
    "3. Enter - for Editing Mode\n",
    "\n",
    "Go to command mode\n",
    "\n",
    "5. Navigation - arrow keys\n",
    "6. Scrolling - spacebar: down and Shift + spacebar: up\n",
    "7. a - for adding cell above\n",
    "8. b - for adding cell below\n",
    "9. Shift + arrow key - for selecting multiple cells\n",
    "10. x - for cut\n",
    "11. c - for copy\n",
    "12. v - for paste\n",
    "13. dd - for deleting cell\n",
    "14. z - for undo\n",
    "15. m - markdown mode\n",
    "16. y - code mode\n",
    "17. shift + enter : for executing a cell (even in editable mode)\n",
    "18. option(alt) + enter : for executing a cell and adding a cell below\n",
    "19. command + enter : for executing multiple cells (after selecting them)\n",
    "20. shift + m : to merge (after selecting them)\n",
    "21. cmd + shift + - : for breaking a cell (in edit mode) **\n",
    "22. Tab : for suggestions, even for parameters also in case of models calling (LinearRegression('Here'))\n",
    "23. Shift + Tab : for documentation\n",
    "\n",
    "Use notebook as a command line\n",
    "\n",
    "25. ! - add this to execute any command\n",
    "\n",
    "For displaying all the data in a dataframe\n",
    "\n",
    "27. pd.set_option('display.max_rows', None), pd.set_option('display.max_columns', None),\n",
    "    pd.set_option('display.max_rows', 10), pd.set_option('display.max_columns', 10)"
   ]
  },
  {
   "cell_type": "code",
   "execution_count": 23,
   "id": "4ff1373f-ee5e-43fa-abc9-71166476b8d3",
   "metadata": {},
   "outputs": [
    {
     "name": "stdout",
     "output_type": "stream",
     "text": [
      "/Users/uditjain/Documents\n"
     ]
    }
   ],
   "source": [
    "!pwd"
   ]
  },
  {
   "cell_type": "code",
   "execution_count": 4,
   "id": "f8b7635d-36e4-4e90-b05c-07c77496b3d1",
   "metadata": {},
   "outputs": [],
   "source": [
    "# a\n",
    "\n",
    "import numpy as np\n",
    "\n",
    "import pandas as pd\n",
    "from sklearn.linear_model import LinearRegression\n",
    "\n",
    "lr = LinearRegression()"
   ]
  },
  {
   "cell_type": "code",
   "execution_count": 5,
   "id": "c4436343-1983-4a60-b4d4-007e2f1ad22b",
   "metadata": {},
   "outputs": [
    {
     "name": "stdout",
     "output_type": "stream",
     "text": [
      "\u001b[34mcomp\u001b[m\u001b[m             demo.ipynb       \u001b[34mdemoLan\u001b[m\u001b[m\r\n",
      "\u001b[34mcp\u001b[m\u001b[m               demo.py          \u001b[34mmachine_learning\u001b[m\u001b[m\r\n"
     ]
    }
   ],
   "source": [
    "!ls"
   ]
  },
  {
   "cell_type": "code",
   "execution_count": 6,
   "id": "54235416-679f-4a20-af08-e153e06a0190",
   "metadata": {},
   "outputs": [
    {
     "name": "stdout",
     "output_type": "stream",
     "text": [
      "Requirement already satisfied: numpy in /opt/anaconda3/lib/python3.12/site-packages (1.26.4)\r\n"
     ]
    }
   ],
   "source": [
    "!pip3 install numpy"
   ]
  },
  {
   "cell_type": "code",
   "execution_count": 7,
   "id": "701cb19a-0281-48ee-b96a-ffc6cf3589fe",
   "metadata": {
    "hide_input": false
   },
   "outputs": [],
   "source": [
    "import numpy as np\n",
    "import pandas as pd"
   ]
  },
  {
   "cell_type": "markdown",
   "id": "8dc25b84-e40b-40bd-8b0c-25e38911fb77",
   "metadata": {},
   "source": [
    "28. for ignoring warnings"
   ]
  },
  {
   "cell_type": "code",
   "execution_count": 8,
   "id": "03041455-61de-42fd-b934-ba6022cb5374",
   "metadata": {},
   "outputs": [],
   "source": [
    "import warnings\n",
    "warnings.filterwarnings(action='ignore')"
   ]
  },
  {
   "cell_type": "code",
   "execution_count": 9,
   "id": "762e1e2c-c477-4325-8a79-f0b9bad60573",
   "metadata": {},
   "outputs": [
    {
     "name": "stdout",
     "output_type": "stream",
     "text": [
      "Reinitialized existing Git repository in /Users/uditjain/Documents/.git/\r\n"
     ]
    }
   ],
   "source": [
    "!git init"
   ]
  },
  {
   "cell_type": "markdown",
   "id": "32b59687-078a-44d5-a12d-07d36e159dca",
   "metadata": {},
   "source": [
    "29. for printing all outputs in the cell"
   ]
  },
  {
   "cell_type": "code",
   "execution_count": 10,
   "id": "b501d458-4f9d-4daf-af84-11e0c73a2a48",
   "metadata": {},
   "outputs": [],
   "source": [
    "from IPython.core.interactiveshell import InteractiveShell\n",
    "InteractiveShell.ast_node_interactivity = 'all'"
   ]
  },
  {
   "cell_type": "code",
   "execution_count": 11,
   "id": "f01d6979-0d83-4719-badc-ad2b8500edaf",
   "metadata": {},
   "outputs": [
    {
     "data": {
      "text/plain": [
       "2"
      ]
     },
     "execution_count": 11,
     "metadata": {},
     "output_type": "execute_result"
    },
    {
     "data": {
      "text/plain": [
       "3"
      ]
     },
     "execution_count": 11,
     "metadata": {},
     "output_type": "execute_result"
    }
   ],
   "source": [
    "a = 2\n",
    "b = 3\n",
    "\n",
    "a\n",
    "b"
   ]
  },
  {
   "cell_type": "markdown",
   "id": "c1dec7e9-20e5-49a4-8026-63adeb60848a",
   "metadata": {},
   "source": [
    "30. to print output of any other cell"
   ]
  },
  {
   "cell_type": "code",
   "execution_count": 12,
   "id": "64d3ac9f-ea50-4e9e-b306-be2ee974379d",
   "metadata": {},
   "outputs": [
    {
     "data": {
      "text/plain": [
       "{11: 3}"
      ]
     },
     "execution_count": 12,
     "metadata": {},
     "output_type": "execute_result"
    },
    {
     "ename": "KeyError",
     "evalue": "33",
     "output_type": "error",
     "traceback": [
      "\u001b[0;31m---------------------------------------------------------------------------\u001b[0m",
      "\u001b[0;31mKeyError\u001b[0m                                  Traceback (most recent call last)",
      "Cell \u001b[0;32mIn[12], line 2\u001b[0m\n\u001b[1;32m      1\u001b[0m Out\n\u001b[0;32m----> 2\u001b[0m Out[\u001b[38;5;241m33\u001b[39m]\n",
      "\u001b[0;31mKeyError\u001b[0m: 33"
     ]
    }
   ],
   "source": [
    "Out\n",
    "Out[33]"
   ]
  },
  {
   "cell_type": "markdown",
   "id": "384f0603-7326-4baf-b340-4f33be7f5882",
   "metadata": {},
   "source": [
    "31. add semicolon to remove extra info from graph"
   ]
  },
  {
   "cell_type": "code",
   "execution_count": 13,
   "id": "43fbbd01-0064-4a86-8764-c787dae5e060",
   "metadata": {},
   "outputs": [
    {
     "data": {
      "image/png": "[encoded data removed]",
      "text/plain": [
       "<Figure size 640x480 with 1 Axes>"
      ]
     },
     "metadata": {},
     "output_type": "display_data"
    }
   ],
   "source": [
    "# !pip3 install matplotlib\n",
    "import matplotlib.pyplot as plt\n",
    "\n",
    "plt.plot([1,2,3], [4,5,6])\n",
    "plt.plot([1,2,3], [4,5,6]);"
   ]
  },
  {
   "cell_type": "markdown",
   "id": "7fb46b11-3878-45c0-b75e-ce2c93732f6c",
   "metadata": {},
   "source": [
    "# 2. Magic Commands\n",
    "\n",
    "1. %time - for line\n",
    "2. %%time - for cell\n",
    "3. %run - for python script execution\n",
    "4. %%writefile - for writing to a file\n",
    "5. %%html - for writing html files\n",
    "6. %%javascript - for executing javascript code\n",
    "7. %%latex - for executing latex code"
   ]
  },
  {
   "cell_type": "code",
   "execution_count": 14,
   "id": "ed892923-4ef2-4c86-afbb-e33ca45542af",
   "metadata": {},
   "outputs": [
    {
     "name": "stdout",
     "output_type": "stream",
     "text": [
      "Hey\n",
      "CPU times: user 24 μs, sys: 116 μs, total: 140 μs\n",
      "Wall time: 19.1 μs\n"
     ]
    }
   ],
   "source": [
    "%time print('Hey')"
   ]
  },
  {
   "cell_type": "code",
   "execution_count": 15,
   "id": "7bb43cb5-0d91-4a87-b2f4-7ccadc858a75",
   "metadata": {},
   "outputs": [
    {
     "name": "stdout",
     "output_type": "stream",
     "text": [
      "100000\n",
      "CPU times: user 5.39 ms, sys: 69 μs, total: 5.45 ms\n",
      "Wall time: 5.47 ms\n"
     ]
    }
   ],
   "source": [
    "%%time\n",
    "num = 0\n",
    "for i in range(100000):\n",
    "    num += 1\n",
    "print(num)"
   ]
  },
  {
   "cell_type": "code",
   "execution_count": 16,
   "id": "0281d6eb-d06e-47bb-9aa6-5ce21a21b590",
   "metadata": {},
   "outputs": [
    {
     "name": "stdout",
     "output_type": "stream",
     "text": [
      "Overwriting demo.py\n"
     ]
    }
   ],
   "source": [
    "%%writefile demo.py\n",
    "\n",
    "print(\"this is a new file, hakuna matata\")"
   ]
  },
  {
   "cell_type": "code",
   "execution_count": 17,
   "id": "e4d77013-4271-4d72-b1ca-ef45fdc8ab05",
   "metadata": {},
   "outputs": [
    {
     "name": "stdout",
     "output_type": "stream",
     "text": [
      "this is a new file, hakuna matata\n"
     ]
    }
   ],
   "source": [
    "%run demo.py"
   ]
  },
  {
   "cell_type": "code",
   "execution_count": 18,
   "id": "df530a5e-ecfc-4c2a-9375-a534fde69955",
   "metadata": {},
   "outputs": [
    {
     "name": "stdout",
     "output_type": "stream",
     "text": [
      "\u001b[34mcomp\u001b[m\u001b[m             demo.ipynb       \u001b[34mdemoLan\u001b[m\u001b[m\r\n",
      "\u001b[34mcp\u001b[m\u001b[m               demo.py          \u001b[34mmachine_learning\u001b[m\u001b[m\r\n"
     ]
    }
   ],
   "source": [
    "!ls"
   ]
  },
  {
   "cell_type": "code",
   "execution_count": 19,
   "id": "fd047c1a-2875-475a-8841-e0fc8c2d2382",
   "metadata": {},
   "outputs": [
    {
     "data": {
      "text/html": [
       "\n",
       "<div>hey</div>\n"
      ],
      "text/plain": [
       "<IPython.core.display.HTML object>"
      ]
     },
     "metadata": {},
     "output_type": "display_data"
    }
   ],
   "source": [
    "%%html\n",
    "\n",
    "<div>hey</div>"
   ]
  },
  {
   "cell_type": "code",
   "execution_count": 20,
   "id": "bb1911bb-0b5e-4486-922a-456c1d7c0c9f",
   "metadata": {},
   "outputs": [
    {
     "data": {
      "application/javascript": [
       "\n",
       "alert(\"stop\")\n"
      ],
      "text/plain": [
       "<IPython.core.display.Javascript object>"
      ]
     },
     "metadata": {},
     "output_type": "display_data"
    }
   ],
   "source": [
    "%%javascript\n",
    "\n",
    "alert(\"stop\")"
   ]
  },
  {
   "cell_type": "code",
   "execution_count": 21,
   "id": "3f2ba6b8-0e05-49f8-a19e-0e6cc4678642",
   "metadata": {},
   "outputs": [
    {
     "data": {
      "text/latex": [
       "\n",
       "\\[H(p) = -p \\log_2(p) - (1-p) \\log_2(1-p)\\]\n"
      ],
      "text/plain": [
       "<IPython.core.display.Latex object>"
      ]
     },
     "metadata": {},
     "output_type": "display_data"
    }
   ],
   "source": [
    " %%latex\n",
    "\n",
    "\\[H(p) = -p \\log_2(p) - (1-p) \\log_2(1-p)\\]"
   ]
  },
  {
   "cell_type": "code",
   "execution_count": 22,
   "id": "cfaae18f-2d32-4fe5-b7cc-f5b2f3628b14",
   "metadata": {},
   "outputs": [
    {
     "name": "stdout",
     "output_type": "stream",
     "text": [
      "Requirement already satisfied: jupyter_contrib_nbextensions in /opt/anaconda3/lib/python3.12/site-packages (0.7.0)\n",
      "Requirement already satisfied: ipython-genutils in /opt/anaconda3/lib/python3.12/site-packages (from jupyter_contrib_nbextensions) (0.2.0)\n",
      "Requirement already satisfied: jupyter-contrib-core>=0.3.3 in /opt/anaconda3/lib/python3.12/site-packages (from jupyter_contrib_nbextensions) (0.4.0)\n",
      "Requirement already satisfied: jupyter-core in /opt/anaconda3/lib/python3.12/site-packages (from jupyter_contrib_nbextensions) (5.7.2)\n",
      "Requirement already satisfied: jupyter-highlight-selected-word>=0.1.1 in /opt/anaconda3/lib/python3.12/site-packages (from jupyter_contrib_nbextensions) (0.2.0)\n",
      "Requirement already satisfied: jupyter-nbextensions-configurator>=0.4.0 in /opt/anaconda3/lib/python3.12/site-packages (from jupyter_contrib_nbextensions) (0.6.1)\n",
      "Requirement already satisfied: nbconvert>=6.0 in /opt/anaconda3/lib/python3.12/site-packages (from jupyter_contrib_nbextensions) (7.16.4)\n",
      "Requirement already satisfied: notebook>=6.0 in /opt/anaconda3/lib/python3.12/site-packages (from jupyter_contrib_nbextensions) (6.5.7)\n",
      "Requirement already satisfied: tornado in /opt/anaconda3/lib/python3.12/site-packages (from jupyter_contrib_nbextensions) (6.4.1)\n",
      "Requirement already satisfied: traitlets>=4.1 in /opt/anaconda3/lib/python3.12/site-packages (from jupyter_contrib_nbextensions) (5.14.3)\n",
      "Requirement already satisfied: lxml in /opt/anaconda3/lib/python3.12/site-packages (from jupyter_contrib_nbextensions) (5.2.1)\n",
      "Requirement already satisfied: setuptools in /opt/anaconda3/lib/python3.12/site-packages (from jupyter-contrib-core>=0.3.3->jupyter_contrib_nbextensions) (75.1.0)\n",
      "Requirement already satisfied: pyyaml in /opt/anaconda3/lib/python3.12/site-packages (from jupyter-nbextensions-configurator>=0.4.0->jupyter_contrib_nbextensions) (6.0.1)\n",
      "Requirement already satisfied: beautifulsoup4 in /opt/anaconda3/lib/python3.12/site-packages (from nbconvert>=6.0->jupyter_contrib_nbextensions) (4.12.3)\n",
      "Requirement already satisfied: bleach!=5.0.0 in /opt/anaconda3/lib/python3.12/site-packages (from nbconvert>=6.0->jupyter_contrib_nbextensions) (4.1.0)\n",
      "Requirement already satisfied: defusedxml in /opt/anaconda3/lib/python3.12/site-packages (from nbconvert>=6.0->jupyter_contrib_nbextensions) (0.7.1)\n",
      "Requirement already satisfied: jinja2>=3.0 in /opt/anaconda3/lib/python3.12/site-packages (from nbconvert>=6.0->jupyter_contrib_nbextensions) (3.1.4)\n",
      "Requirement already satisfied: jupyterlab-pygments in /opt/anaconda3/lib/python3.12/site-packages (from nbconvert>=6.0->jupyter_contrib_nbextensions) (0.1.2)\n",
      "Requirement already satisfied: markupsafe>=2.0 in /opt/anaconda3/lib/python3.12/site-packages (from nbconvert>=6.0->jupyter_contrib_nbextensions) (2.1.3)\n",
      "Requirement already satisfied: mistune<4,>=2.0.3 in /opt/anaconda3/lib/python3.12/site-packages (from nbconvert>=6.0->jupyter_contrib_nbextensions) (2.0.4)\n",
      "Requirement already satisfied: nbclient>=0.5.0 in /opt/anaconda3/lib/python3.12/site-packages (from nbconvert>=6.0->jupyter_contrib_nbextensions) (0.8.0)\n",
      "Requirement already satisfied: nbformat>=5.7 in /opt/anaconda3/lib/python3.12/site-packages (from nbconvert>=6.0->jupyter_contrib_nbextensions) (5.10.4)\n",
      "Requirement already satisfied: packaging in /opt/anaconda3/lib/python3.12/site-packages (from nbconvert>=6.0->jupyter_contrib_nbextensions) (24.1)\n",
      "Requirement already satisfied: pandocfilters>=1.4.1 in /opt/anaconda3/lib/python3.12/site-packages (from nbconvert>=6.0->jupyter_contrib_nbextensions) (1.5.0)\n",
      "Requirement already satisfied: pygments>=2.4.1 in /opt/anaconda3/lib/python3.12/site-packages (from nbconvert>=6.0->jupyter_contrib_nbextensions) (2.15.1)\n",
      "Requirement already satisfied: tinycss2 in /opt/anaconda3/lib/python3.12/site-packages (from nbconvert>=6.0->jupyter_contrib_nbextensions) (1.2.1)\n",
      "Requirement already satisfied: platformdirs>=2.5 in /opt/anaconda3/lib/python3.12/site-packages (from jupyter-core->jupyter_contrib_nbextensions) (3.10.0)\n",
      "Requirement already satisfied: pyzmq>=17 in /opt/anaconda3/lib/python3.12/site-packages (from notebook>=6.0->jupyter_contrib_nbextensions) (25.1.2)\n",
      "Requirement already satisfied: argon2-cffi in /opt/anaconda3/lib/python3.12/site-packages (from notebook>=6.0->jupyter_contrib_nbextensions) (21.3.0)\n",
      "Requirement already satisfied: jupyter-client<8,>=5.3.4 in /opt/anaconda3/lib/python3.12/site-packages (from notebook>=6.0->jupyter_contrib_nbextensions) (7.4.9)\n",
      "Requirement already satisfied: nest-asyncio>=1.5 in /opt/anaconda3/lib/python3.12/site-packages (from notebook>=6.0->jupyter_contrib_nbextensions) (1.6.0)\n",
      "Requirement already satisfied: ipykernel in /opt/anaconda3/lib/python3.12/site-packages (from notebook>=6.0->jupyter_contrib_nbextensions) (6.28.0)\n",
      "Requirement already satisfied: Send2Trash>=1.8.0 in /opt/anaconda3/lib/python3.12/site-packages (from notebook>=6.0->jupyter_contrib_nbextensions) (1.8.2)\n",
      "Requirement already satisfied: terminado>=0.8.3 in /opt/anaconda3/lib/python3.12/site-packages (from notebook>=6.0->jupyter_contrib_nbextensions) (0.17.1)\n",
      "Requirement already satisfied: prometheus-client in /opt/anaconda3/lib/python3.12/site-packages (from notebook>=6.0->jupyter_contrib_nbextensions) (0.14.1)\n",
      "Requirement already satisfied: nbclassic>=0.4.7 in /opt/anaconda3/lib/python3.12/site-packages (from notebook>=6.0->jupyter_contrib_nbextensions) (1.1.0)\n",
      "Requirement already satisfied: six>=1.9.0 in /opt/anaconda3/lib/python3.12/site-packages (from bleach!=5.0.0->nbconvert>=6.0->jupyter_contrib_nbextensions) (1.16.0)\n",
      "Requirement already satisfied: webencodings in /opt/anaconda3/lib/python3.12/site-packages (from bleach!=5.0.0->nbconvert>=6.0->jupyter_contrib_nbextensions) (0.5.1)\n",
      "Requirement already satisfied: entrypoints in /opt/anaconda3/lib/python3.12/site-packages (from jupyter-client<8,>=5.3.4->notebook>=6.0->jupyter_contrib_nbextensions) (0.4)\n",
      "Requirement already satisfied: python-dateutil>=2.8.2 in /opt/anaconda3/lib/python3.12/site-packages (from jupyter-client<8,>=5.3.4->notebook>=6.0->jupyter_contrib_nbextensions) (2.9.0.post0)\n",
      "Requirement already satisfied: notebook_shim>=0.2.3 in /opt/anaconda3/lib/python3.12/site-packages (from nbclassic>=0.4.7->notebook>=6.0->jupyter_contrib_nbextensions) (0.2.3)\n",
      "Requirement already satisfied: fastjsonschema>=2.15 in /opt/anaconda3/lib/python3.12/site-packages (from nbformat>=5.7->nbconvert>=6.0->jupyter_contrib_nbextensions) (2.16.2)\n",
      "Requirement already satisfied: jsonschema>=2.6 in /opt/anaconda3/lib/python3.12/site-packages (from nbformat>=5.7->nbconvert>=6.0->jupyter_contrib_nbextensions) (4.23.0)\n",
      "Requirement already satisfied: ptyprocess in /opt/anaconda3/lib/python3.12/site-packages (from terminado>=0.8.3->notebook>=6.0->jupyter_contrib_nbextensions) (0.7.0)\n",
      "Requirement already satisfied: argon2-cffi-bindings in /opt/anaconda3/lib/python3.12/site-packages (from argon2-cffi->notebook>=6.0->jupyter_contrib_nbextensions) (21.2.0)\n",
      "Requirement already satisfied: soupsieve>1.2 in /opt/anaconda3/lib/python3.12/site-packages (from beautifulsoup4->nbconvert>=6.0->jupyter_contrib_nbextensions) (2.5)\n",
      "Requirement already satisfied: appnope in /opt/anaconda3/lib/python3.12/site-packages (from ipykernel->notebook>=6.0->jupyter_contrib_nbextensions) (0.1.3)\n",
      "Requirement already satisfied: comm>=0.1.1 in /opt/anaconda3/lib/python3.12/site-packages (from ipykernel->notebook>=6.0->jupyter_contrib_nbextensions) (0.2.1)\n",
      "Requirement already satisfied: debugpy>=1.6.5 in /opt/anaconda3/lib/python3.12/site-packages (from ipykernel->notebook>=6.0->jupyter_contrib_nbextensions) (1.6.7)\n",
      "Requirement already satisfied: ipython>=7.23.1 in /opt/anaconda3/lib/python3.12/site-packages (from ipykernel->notebook>=6.0->jupyter_contrib_nbextensions) (8.27.0)\n",
      "Requirement already satisfied: matplotlib-inline>=0.1 in /opt/anaconda3/lib/python3.12/site-packages (from ipykernel->notebook>=6.0->jupyter_contrib_nbextensions) (0.1.6)\n",
      "Requirement already satisfied: psutil in /opt/anaconda3/lib/python3.12/site-packages (from ipykernel->notebook>=6.0->jupyter_contrib_nbextensions) (5.9.0)\n",
      "Requirement already satisfied: decorator in /opt/anaconda3/lib/python3.12/site-packages (from ipython>=7.23.1->ipykernel->notebook>=6.0->jupyter_contrib_nbextensions) (5.1.1)\n",
      "Requirement already satisfied: jedi>=0.16 in /opt/anaconda3/lib/python3.12/site-packages (from ipython>=7.23.1->ipykernel->notebook>=6.0->jupyter_contrib_nbextensions) (0.19.1)\n",
      "Requirement already satisfied: prompt-toolkit<3.1.0,>=3.0.41 in /opt/anaconda3/lib/python3.12/site-packages (from ipython>=7.23.1->ipykernel->notebook>=6.0->jupyter_contrib_nbextensions) (3.0.43)\n",
      "Requirement already satisfied: stack-data in /opt/anaconda3/lib/python3.12/site-packages (from ipython>=7.23.1->ipykernel->notebook>=6.0->jupyter_contrib_nbextensions) (0.2.0)\n",
      "Requirement already satisfied: pexpect>4.3 in /opt/anaconda3/lib/python3.12/site-packages (from ipython>=7.23.1->ipykernel->notebook>=6.0->jupyter_contrib_nbextensions) (4.8.0)\n",
      "Requirement already satisfied: attrs>=22.2.0 in /opt/anaconda3/lib/python3.12/site-packages (from jsonschema>=2.6->nbformat>=5.7->nbconvert>=6.0->jupyter_contrib_nbextensions) (23.1.0)\n",
      "Requirement already satisfied: jsonschema-specifications>=2023.03.6 in /opt/anaconda3/lib/python3.12/site-packages (from jsonschema>=2.6->nbformat>=5.7->nbconvert>=6.0->jupyter_contrib_nbextensions) (2023.7.1)\n",
      "Requirement already satisfied: referencing>=0.28.4 in /opt/anaconda3/lib/python3.12/site-packages (from jsonschema>=2.6->nbformat>=5.7->nbconvert>=6.0->jupyter_contrib_nbextensions) (0.30.2)\n",
      "Requirement already satisfied: rpds-py>=0.7.1 in /opt/anaconda3/lib/python3.12/site-packages (from jsonschema>=2.6->nbformat>=5.7->nbconvert>=6.0->jupyter_contrib_nbextensions) (0.10.6)\n",
      "Requirement already satisfied: jupyter-server<3,>=1.8 in /opt/anaconda3/lib/python3.12/site-packages (from notebook_shim>=0.2.3->nbclassic>=0.4.7->notebook>=6.0->jupyter_contrib_nbextensions) (2.14.1)\n",
      "Requirement already satisfied: cffi>=1.0.1 in /opt/anaconda3/lib/python3.12/site-packages (from argon2-cffi-bindings->argon2-cffi->notebook>=6.0->jupyter_contrib_nbextensions) (1.17.1)\n",
      "Requirement already satisfied: pycparser in /opt/anaconda3/lib/python3.12/site-packages (from cffi>=1.0.1->argon2-cffi-bindings->argon2-cffi->notebook>=6.0->jupyter_contrib_nbextensions) (2.21)\n",
      "Requirement already satisfied: parso<0.9.0,>=0.8.3 in /opt/anaconda3/lib/python3.12/site-packages (from jedi>=0.16->ipython>=7.23.1->ipykernel->notebook>=6.0->jupyter_contrib_nbextensions) (0.8.3)\n",
      "Requirement already satisfied: anyio>=3.1.0 in /opt/anaconda3/lib/python3.12/site-packages (from jupyter-server<3,>=1.8->notebook_shim>=0.2.3->nbclassic>=0.4.7->notebook>=6.0->jupyter_contrib_nbextensions) (4.2.0)\n",
      "Requirement already satisfied: jupyter-events>=0.9.0 in /opt/anaconda3/lib/python3.12/site-packages (from jupyter-server<3,>=1.8->notebook_shim>=0.2.3->nbclassic>=0.4.7->notebook>=6.0->jupyter_contrib_nbextensions) (0.10.0)\n",
      "Requirement already satisfied: jupyter-server-terminals>=0.4.4 in /opt/anaconda3/lib/python3.12/site-packages (from jupyter-server<3,>=1.8->notebook_shim>=0.2.3->nbclassic>=0.4.7->notebook>=6.0->jupyter_contrib_nbextensions) (0.4.4)\n",
      "Requirement already satisfied: overrides>=5.0 in /opt/anaconda3/lib/python3.12/site-packages (from jupyter-server<3,>=1.8->notebook_shim>=0.2.3->nbclassic>=0.4.7->notebook>=6.0->jupyter_contrib_nbextensions) (7.4.0)\n",
      "Requirement already satisfied: websocket-client>=1.7 in /opt/anaconda3/lib/python3.12/site-packages (from jupyter-server<3,>=1.8->notebook_shim>=0.2.3->nbclassic>=0.4.7->notebook>=6.0->jupyter_contrib_nbextensions) (1.8.0)\n",
      "Requirement already satisfied: wcwidth in /opt/anaconda3/lib/python3.12/site-packages (from prompt-toolkit<3.1.0,>=3.0.41->ipython>=7.23.1->ipykernel->notebook>=6.0->jupyter_contrib_nbextensions) (0.2.5)\n",
      "Requirement already satisfied: executing in /opt/anaconda3/lib/python3.12/site-packages (from stack-data->ipython>=7.23.1->ipykernel->notebook>=6.0->jupyter_contrib_nbextensions) (0.8.3)\n",
      "Requirement already satisfied: asttokens in /opt/anaconda3/lib/python3.12/site-packages (from stack-data->ipython>=7.23.1->ipykernel->notebook>=6.0->jupyter_contrib_nbextensions) (2.0.5)\n",
      "Requirement already satisfied: pure-eval in /opt/anaconda3/lib/python3.12/site-packages (from stack-data->ipython>=7.23.1->ipykernel->notebook>=6.0->jupyter_contrib_nbextensions) (0.2.2)\n",
      "Requirement already satisfied: idna>=2.8 in /opt/anaconda3/lib/python3.12/site-packages (from anyio>=3.1.0->jupyter-server<3,>=1.8->notebook_shim>=0.2.3->nbclassic>=0.4.7->notebook>=6.0->jupyter_contrib_nbextensions) (3.7)\n",
      "Requirement already satisfied: sniffio>=1.1 in /opt/anaconda3/lib/python3.12/site-packages (from anyio>=3.1.0->jupyter-server<3,>=1.8->notebook_shim>=0.2.3->nbclassic>=0.4.7->notebook>=6.0->jupyter_contrib_nbextensions) (1.3.0)\n",
      "Requirement already satisfied: python-json-logger>=2.0.4 in /opt/anaconda3/lib/python3.12/site-packages (from jupyter-events>=0.9.0->jupyter-server<3,>=1.8->notebook_shim>=0.2.3->nbclassic>=0.4.7->notebook>=6.0->jupyter_contrib_nbextensions) (2.0.7)\n",
      "Requirement already satisfied: rfc3339-validator in /opt/anaconda3/lib/python3.12/site-packages (from jupyter-events>=0.9.0->jupyter-server<3,>=1.8->notebook_shim>=0.2.3->nbclassic>=0.4.7->notebook>=6.0->jupyter_contrib_nbextensions) (0.1.4)\n",
      "Requirement already satisfied: rfc3986-validator>=0.1.1 in /opt/anaconda3/lib/python3.12/site-packages (from jupyter-events>=0.9.0->jupyter-server<3,>=1.8->notebook_shim>=0.2.3->nbclassic>=0.4.7->notebook>=6.0->jupyter_contrib_nbextensions) (0.1.1)\n"
     ]
    },
    {
     "name": "stdout",
     "output_type": "stream",
     "text": [
      "Requirement already satisfied: fqdn in /opt/anaconda3/lib/python3.12/site-packages (from jsonschema[format-nongpl]>=4.18.0->jupyter-events>=0.9.0->jupyter-server<3,>=1.8->notebook_shim>=0.2.3->nbclassic>=0.4.7->notebook>=6.0->jupyter_contrib_nbextensions) (1.5.1)\r\n",
      "Requirement already satisfied: isoduration in /opt/anaconda3/lib/python3.12/site-packages (from jsonschema[format-nongpl]>=4.18.0->jupyter-events>=0.9.0->jupyter-server<3,>=1.8->notebook_shim>=0.2.3->nbclassic>=0.4.7->notebook>=6.0->jupyter_contrib_nbextensions) (20.11.0)\r\n",
      "Requirement already satisfied: jsonpointer>1.13 in /opt/anaconda3/lib/python3.12/site-packages (from jsonschema[format-nongpl]>=4.18.0->jupyter-events>=0.9.0->jupyter-server<3,>=1.8->notebook_shim>=0.2.3->nbclassic>=0.4.7->notebook>=6.0->jupyter_contrib_nbextensions) (2.1)\r\n",
      "Requirement already satisfied: uri-template in /opt/anaconda3/lib/python3.12/site-packages (from jsonschema[format-nongpl]>=4.18.0->jupyter-events>=0.9.0->jupyter-server<3,>=1.8->notebook_shim>=0.2.3->nbclassic>=0.4.7->notebook>=6.0->jupyter_contrib_nbextensions) (1.3.0)\r\n",
      "Requirement already satisfied: webcolors>=24.6.0 in /opt/anaconda3/lib/python3.12/site-packages (from jsonschema[format-nongpl]>=4.18.0->jupyter-events>=0.9.0->jupyter-server<3,>=1.8->notebook_shim>=0.2.3->nbclassic>=0.4.7->notebook>=6.0->jupyter_contrib_nbextensions) (24.11.1)\r\n",
      "Requirement already satisfied: arrow>=0.15.0 in /opt/anaconda3/lib/python3.12/site-packages (from isoduration->jsonschema[format-nongpl]>=4.18.0->jupyter-events>=0.9.0->jupyter-server<3,>=1.8->notebook_shim>=0.2.3->nbclassic>=0.4.7->notebook>=6.0->jupyter_contrib_nbextensions) (1.2.3)\r\n"
     ]
    }
   ],
   "source": [
    "!pip3 install jupyter_contrib_nbextensions"
   ]
  },
  {
   "cell_type": "code",
   "execution_count": 23,
   "id": "6bcd011d-27c8-4173-ac28-4962eff6919e",
   "metadata": {},
   "outputs": [],
   "source": [
    "# !jupyter contrib nbextension install --user\n",
    "# !jupyter nbextensions configurator enable --user"
   ]
  },
  {
   "cell_type": "code",
   "execution_count": 24,
   "id": "bc21db5a-da06-4ec6-8afd-fd9e1f9b9dbc",
   "metadata": {},
   "outputs": [
    {
     "name": "stdout",
     "output_type": "stream",
     "text": [
      "Helo\n"
     ]
    }
   ],
   "source": [
    "print('Helo')"
   ]
  },
  {
   "cell_type": "code",
   "execution_count": null,
   "id": "466ab41c",
   "metadata": {},
   "outputs": [],
   "source": [
    "from sklearn.linear_model import LinearRegression\n",
    "\n",
    "lr = LinearRegression()\n",
    "\n",
    "def fun():\n",
    "    num = 5\n",
    "    return 2\n",
    "\n",
    "\n",
    "def newFun():\n",
    "    return 3"
   ]
  },
  {
   "cell_type": "code",
   "execution_count": null,
   "id": "702e77b8-4f6b-4d66-8b0d-66ac87eb6252",
   "metadata": {},
   "outputs": [],
   "source": []
  }
 ],
 "metadata": {
  "hide_input": false,
  "kernelspec": {
   "display_name": "Python 3 (ipykernel)",
   "language": "python",
   "name": "python3"
  },
  "language_info": {
   "codemirror_mode": {
    "name": "ipython",
    "version": 3
   },
   "file_extension": ".py",
   "mimetype": "text/x-python",
   "name": "python",
   "nbconvert_exporter": "python",
   "pygments_lexer": "ipython3",
   "version": "3.12.2"
  },
  "toc": {
   "base_numbering": 1,
   "nav_menu": {},
   "number_sections": true,
   "sideBar": true,
   "skip_h1_title": false,
   "title_cell": "Table of Contents",
   "title_sidebar": "Contents",
   "toc_cell": false,
   "toc_position": {},
   "toc_section_display": true,
   "toc_window_display": true
  },
  "varInspector": {
   "cols": {
    "lenName": 16,
    "lenType": 16,
    "lenVar": 40
   },
   "kernels_config": {
    "python": {
     "delete_cmd_postfix": "",
     "delete_cmd_prefix": "del ",
     "library": "var_list.py",
     "varRefreshCmd": "print(var_dic_list())"
    },
    "r": {
     "delete_cmd_postfix": ") ",
     "delete_cmd_prefix": "rm(",
     "library": "var_list.r",
     "varRefreshCmd": "cat(var_dic_list()) "
    }
   },
   "types_to_exclude": [
    "module",
    "function",
    "builtin_function_or_method",
    "instance",
    "_Feature"
   ],
   "window_display": false
  }
 },
 "nbformat": 4,
 "nbformat_minor": 5
}
